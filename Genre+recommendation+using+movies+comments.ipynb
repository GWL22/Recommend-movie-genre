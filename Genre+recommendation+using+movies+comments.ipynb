{
 "cells": [
  {
   "cell_type": "markdown",
   "metadata": {},
   "source": [
    "## 1. Load Data\n",
    " - Load data from database and save as csv file\n",
    " - Originally I made machine learning to use data from database directly\n",
    " - By the resource from https://www.lucypark.kr/slides/2015-pyconkr/#39, comments over 7 points are loaded.\n",
    " - To reduce time consume for a test, I used the file the data saved"
   ]
  },
  {
   "cell_type": "code",
   "execution_count": 1,
   "metadata": {
    "collapsed": false
   },
   "outputs": [
    {
     "name": "stderr",
     "output_type": "stream",
     "text": [
      "c:\\python27\\lib\\site-packages\\gensim\\utils.py:855: UserWarning: detected Windows; aliasing chunkize to chunkize_serial\n",
      "  warnings.warn(\"detected Windows; aliasing chunkize to chunkize_serial\")\n",
      "c:\\python27\\lib\\site-packages\\sklearn\\cross_validation.py:44: DeprecationWarning: This module was deprecated in version 0.18 in favor of the model_selection module into which all the refactored classes and functions are moved. Also note that the interface of the new CV iterators are different from that of this module. This module will be removed in 0.20.\n",
      "  \"This module will be removed in 0.20.\", DeprecationWarning)\n"
     ]
    }
   ],
   "source": [
    "import nltk\n",
    "import numpy as np\n",
    "import pandas as pd\n",
    "import many_stop_words as msw\n",
    "import matplotlib.pyplot as plt\n",
    "\n",
    "from matplotlib import font_manager, rc\n",
    "from konlpy.tag import Twitter\n",
    "from konlpy.utils import pprint\n",
    "from gensim.models import doc2vec\n",
    "from sklearn.svm import SVC\n",
    "from sklearn.tree import DecisionTreeClassifier\n",
    "from sklearn.metrics import classification_report\n",
    "from sklearn.pipeline import Pipeline\n",
    "from sklearn.multiclass import OneVsRestClassifier, OneVsOneClassifier\n",
    "from sklearn.naive_bayes import MultinomialNB\n",
    "from sklearn.linear_model import LogisticRegression\n",
    "from sklearn.cross_validation import train_test_split\n",
    "from sklearn.feature_extraction.text import CountVectorizer, TfidfVectorizer\n",
    "from sklearn.cross_validation import cross_val_score\n"
   ]
  },
  {
   "cell_type": "code",
   "execution_count": 2,
   "metadata": {
    "collapsed": false
   },
   "outputs": [
    {
     "data": {
      "text/plain": [
       "310653"
      ]
     },
     "execution_count": 2,
     "metadata": {},
     "output_type": "execute_result"
    }
   ],
   "source": [
    "df = pd.read_csv('./dataset/train_jup.csv')\n",
    "len(df)"
   ]
  },
  {
   "cell_type": "code",
   "execution_count": 3,
   "metadata": {
    "collapsed": true
   },
   "outputs": [],
   "source": [
    "df = df.dropna()"
   ]
  },
  {
   "cell_type": "code",
   "execution_count": 4,
   "metadata": {
    "collapsed": false
   },
   "outputs": [
    {
     "data": {
      "text/plain": [
       "310647"
      ]
     },
     "execution_count": 4,
     "metadata": {},
     "output_type": "execute_result"
    }
   ],
   "source": [
    "len(df)"
   ]
  },
  {
   "cell_type": "markdown",
   "metadata": {},
   "source": [
    "- Dataset has only 6 NaN, so it is almost impossible that result could be changed by 6 rows held NaN"
   ]
  },
  {
   "cell_type": "code",
   "execution_count": 5,
   "metadata": {
    "collapsed": false
   },
   "outputs": [
    {
     "data": {
      "text/html": [
       "<div>\n",
       "<table border=\"1\" class=\"dataframe\">\n",
       "  <thead>\n",
       "    <tr style=\"text-align: right;\">\n",
       "      <th></th>\n",
       "      <th>genre</th>\n",
       "      <th>comment</th>\n",
       "    </tr>\n",
       "  </thead>\n",
       "  <tbody>\n",
       "    <tr>\n",
       "      <th>310648</th>\n",
       "      <td>6</td>\n",
       "      <td>말이 필요없는 명작 영화끝나고 남는 쥬다벤허</td>\n",
       "    </tr>\n",
       "    <tr>\n",
       "      <th>310649</th>\n",
       "      <td>6</td>\n",
       "      <td>벤허초등학교때뭔지모르고 봤던영화~~2016년  지금은 보고또보고또보고^^진짜대박멋진...</td>\n",
       "    </tr>\n",
       "    <tr>\n",
       "      <th>310650</th>\n",
       "      <td>13</td>\n",
       "      <td>마지막 엄마가 한짓은 좀 억지스러운 설정인듯..그냥 그대로 끝났더라면 더 자연스러웠...</td>\n",
       "    </tr>\n",
       "    <tr>\n",
       "      <th>310651</th>\n",
       "      <td>13</td>\n",
       "      <td>끝나기 3분전까지 눈물 흘리다 마지막에 소름</td>\n",
       "    </tr>\n",
       "    <tr>\n",
       "      <th>310652</th>\n",
       "      <td>6</td>\n",
       "      <td>말이필요없는 그냥 무조건한번쯤은 봐야할영화.</td>\n",
       "    </tr>\n",
       "  </tbody>\n",
       "</table>\n",
       "</div>"
      ],
      "text/plain": [
       "        genre                                            comment\n",
       "310648      6                           말이 필요없는 명작 영화끝나고 남는 쥬다벤허\n",
       "310649      6  벤허초등학교때뭔지모르고 봤던영화~~2016년  지금은 보고또보고또보고^^진짜대박멋진...\n",
       "310650     13  마지막 엄마가 한짓은 좀 억지스러운 설정인듯..그냥 그대로 끝났더라면 더 자연스러웠...\n",
       "310651     13                           끝나기 3분전까지 눈물 흘리다 마지막에 소름\n",
       "310652      6                           말이필요없는 그냥 무조건한번쯤은 봐야할영화."
      ]
     },
     "execution_count": 5,
     "metadata": {},
     "output_type": "execute_result"
    }
   ],
   "source": [
    "# How they look at\n",
    "df.tail()"
   ]
  },
  {
   "cell_type": "markdown",
   "metadata": {},
   "source": [
    "### 15 Categories\n",
    "Tag|Eng|Kor\n",
    "---|---|---\n",
    "1 | Drama | 드라마\n",
    "2 | Fantasy | 판타지\n",
    "3 | Western | 서부\n",
    "4 | Horror | 공포\n",
    "5 | Melo/Love/Romance | 멜로/애정/로맨스\n",
    "6 | Adventure | 모험\n",
    "7 | Thriller | 스릴러\n",
    "8 | Noir | 느와르\n",
    "10| Documentary | 다큐멘터리\n",
    "11| Comedy | 코미디\n",
    "12| Family | 가족\n",
    "13| Mystery | 미스터리\n",
    "14| War | 전쟁\n",
    "15| Animation | 애니메이션\n",
    "16| Crime | 범죄"
   ]
  },
  {
   "cell_type": "code",
   "execution_count": 6,
   "metadata": {
    "collapsed": false
   },
   "outputs": [
    {
     "name": "stdout",
     "output_type": "stream",
     "text": [
      "tag: 1 106811\n",
      "tag: 2 12381\n",
      "tag: 3 973\n",
      "tag: 4 16739\n",
      "tag: 5 33538\n",
      "tag: 6 12254\n",
      "tag: 7 11695\n",
      "tag: 8 825\n",
      "tag: 10 5401\n",
      "tag: 11 52429\n",
      "tag: 12 5137\n",
      "tag: 13 6672\n",
      "tag: 14 5204\n",
      "tag: 15 34353\n",
      "tag: 16 6235\n"
     ]
    }
   ],
   "source": [
    "# comments for each tag(=genre)\n",
    "a = list(set(df.genre))\n",
    "count = []\n",
    "for num in a:\n",
    "    print 'tag: ' + str(num), len(df[df.genre==num])\n",
    "    count.append(len(df[df.genre==num]))"
   ]
  },
  {
   "cell_type": "markdown",
   "metadata": {},
   "source": [
    "#### As you see below the graph, comments are not distributed equally\n",
    "- This fact could be negative to predict tag using comments"
   ]
  },
  {
   "cell_type": "code",
   "execution_count": 7,
   "metadata": {
    "collapsed": false
   },
   "outputs": [
    {
     "data": {
      "image/png": "[encoded data removed]",
      "text/plain": [
       "<matplotlib.figure.Figure at 0x11027b50>"
      ]
     },
     "metadata": {},
     "output_type": "display_data"
    }
   ],
   "source": [
    "plt.bar(a, count)\n",
    "plt.title('Number of comments about genre')\n",
    "plt.show()"
   ]
  },
  {
   "cell_type": "markdown",
   "metadata": {},
   "source": [
    "# 2. Sentiment Analysis"
   ]
  },
  {
   "cell_type": "markdown",
   "metadata": {},
   "source": [
    "- comment is decomposed by Konlpy.tag, especially Twitter\n",
    "- Becuase comment term is similar with twit term, twitter.pos is used"
   ]
  },
  {
   "cell_type": "markdown",
   "metadata": {},
   "source": [
    " - For Text analysis, sentence has to decomposed to smallest unit.\n",
    " - If not, whole sentence would be just 'one' data, and impossible to calculate similarity and so on."
   ]
  },
  {
   "cell_type": "code",
   "execution_count": 8,
   "metadata": {
    "collapsed": false
   },
   "outputs": [],
   "source": [
    "twitter = Twitter()\n",
    "\n",
    "# the function helps to decompose a comment to smallest unit and tagging\n",
    "def tokenize_pos(doc):\n",
    "    return [ '/'.join(tag) for tag in twitter.pos(doc)]"
   ]
  },
  {
   "cell_type": "code",
   "execution_count": 9,
   "metadata": {
    "collapsed": false
   },
   "outputs": [],
   "source": [
    "# My laptop can't handle whole data, so I use 20000 datas in 310,647\n",
    "y = df['genre'][:20000]\n",
    "X = df['comment'][:20000]"
   ]
  },
  {
   "cell_type": "code",
   "execution_count": 10,
   "metadata": {
    "collapsed": false
   },
   "outputs": [],
   "source": [
    "X_train, X_test, y_train, y_test = train_test_split(X, y, test_size=0.25)"
   ]
  },
  {
   "cell_type": "code",
   "execution_count": 11,
   "metadata": {
    "collapsed": false
   },
   "outputs": [],
   "source": [
    "test_docs = [(tokenize_pos(row_x.decode('utf-8')), row_y) for row_x, row_y in zip(X_test, y_test)]\n",
    "train_docs = [(tokenize_pos(row_x.decode('utf-8')), row_y) for row_x, row_y in zip(X_train, y_train)]"
   ]
  },
  {
   "cell_type": "code",
   "execution_count": 12,
   "metadata": {
    "collapsed": false
   },
   "outputs": [
    {
     "name": "stdout",
     "output_type": "stream",
     "text": [
      "([경의/Noun,\n",
      "  를/Josa,\n",
      "  표/Noun,\n",
      "  합/Verb,\n",
      "  니다/Eomi,\n",
      "  ./Punctuation,\n",
      "  시간/Noun,\n",
      "  이/Josa,\n",
      "  지났/Verb,\n",
      "  지만/Eomi,\n",
      "  명작/Noun,\n",
      "  임/Noun,\n",
      "  은/Josa,\n",
      "  분명합/Adjective,\n",
      "  니다/Eomi,\n",
      "  ./Punctuation,\n",
      "  꼭/Noun,\n",
      "  보세/Verb,\n",
      "  요/Eomi],\n",
      " 1)\n"
     ]
    }
   ],
   "source": [
    "# When comment is decomposed and tagged\n",
    "pprint(train_docs[1])"
   ]
  },
  {
   "cell_type": "markdown",
   "metadata": {},
   "source": [
    " - How are words distributed? Equally?"
   ]
  },
  {
   "cell_type": "code",
   "execution_count": 13,
   "metadata": {
    "collapsed": false
   },
   "outputs": [
    {
     "name": "stdout",
     "output_type": "stream",
     "text": [
      "How many tokens do they have? 262937\n"
     ]
    }
   ],
   "source": [
    "tokens = [tag for data in train_docs for tag in data[0]]\n",
    "print 'How many tokens do they have? ' + str(len(tokens))"
   ]
  },
  {
   "cell_type": "code",
   "execution_count": 14,
   "metadata": {
    "collapsed": false
   },
   "outputs": [
    {
     "name": "stdout",
     "output_type": "stream",
     "text": [
      "Unique tokens :18010\n"
     ]
    }
   ],
   "source": [
    "text = nltk.Text(tokens)\n",
    "print 'Unique tokens :' + str(len(set(text.tokens)))"
   ]
  },
  {
   "cell_type": "code",
   "execution_count": 15,
   "metadata": {
    "collapsed": false
   },
   "outputs": [
    {
     "data": {
      "image/png": "[encoded data removed]",
      "text/plain": [
       "<matplotlib.figure.Figure at 0x13b95fd0>"
      ]
     },
     "metadata": {},
     "output_type": "display_data"
    }
   ],
   "source": [
    "font_fname = 'c:/windows/fonts/NanumGothic.TTF' # font_fname should be changed as your compuser's OS\n",
    "font_name = font_manager.FontProperties(fname=font_fname).get_name()\n",
    "rc('font', family=font_name)\n",
    "plt.figure(figsize=(12,10))\n",
    "text.plot(50) # show most_common till 50 rank\n",
    "plt.show()"
   ]
  },
  {
   "cell_type": "markdown",
   "metadata": {},
   "source": [
    "- As the graph showed, comment has some common words although tags are different"
   ]
  },
  {
   "cell_type": "markdown",
   "metadata": {},
   "source": [
    "### I. Doc2Vec\n",
    "- To use Doc2Vec, dataset should be changed to the doc2vec's template\n",
    "- 'Tagged', 'word tag'\n",
    "- If you call from gensim.models.doc2vec import TaggedDocument, TaggedDocument solves the problem"
   ]
  },
  {
   "cell_type": "code",
   "execution_count": 16,
   "metadata": {
    "collapsed": false
   },
   "outputs": [],
   "source": [
    "TaggedDocument = doc2vec.TaggedDocument\n",
    "tagged_train_docs = [TaggedDocument(d, [c]) for d, c in train_docs]\n",
    "tagged_test_docs = [TaggedDocument(d, [c]) for d, c in test_docs]"
   ]
  },
  {
   "cell_type": "markdown",
   "metadata": {},
   "source": [
    "- Training using Doc2Vec"
   ]
  },
  {
   "cell_type": "code",
   "execution_count": 17,
   "metadata": {
    "collapsed": false
   },
   "outputs": [],
   "source": [
    "doc_vectorizer = doc2vec.Doc2Vec(size=300, alpha=0.025, min_alpha=0.025, seed=1234) # you can change the parameter\n",
    "doc_vectorizer.build_vocab(tagged_train_docs) # build corpus\n",
    "\n",
    "for epoch in range(10):\n",
    "    doc_vectorizer.train(tagged_train_docs)\n",
    "    doc_vectorizer.alpha -= 0.002\n",
    "    doc_vectorizer.min_alpha = doc_vectorizer.alpha"
   ]
  },
  {
   "cell_type": "code",
   "execution_count": 18,
   "metadata": {
    "collapsed": false
   },
   "outputs": [
    {
     "name": "stdout",
     "output_type": "stream",
     "text": [
      "15000\n",
      "300\n",
      "5000\n",
      "300\n"
     ]
    }
   ],
   "source": [
    "train_x = [doc_vectorizer.infer_vector(doc.words) for doc in tagged_train_docs]\n",
    "train_y = [doc.tags[0] for doc in tagged_train_docs]\n",
    "print len(train_x)\n",
    "print len(train_x[0])\n",
    "\n",
    "test_x = [doc_vectorizer.infer_vector(doc.words) for doc in tagged_test_docs]\n",
    "test_y = [doc.tags[0] for doc in tagged_test_docs]\n",
    "print len(test_x)\n",
    "print len(test_x[0])"
   ]
  },
  {
   "cell_type": "code",
   "execution_count": 19,
   "metadata": {
    "collapsed": true
   },
   "outputs": [],
   "source": [
    "result = {}"
   ]
  },
  {
   "cell_type": "code",
   "execution_count": 20,
   "metadata": {
    "collapsed": false
   },
   "outputs": [],
   "source": [
    "classifier = LogisticRegression(random_state=1234)\n",
    "classifier.fit(train_x, train_y)\n",
    "result['doc2vec_LR'] = classifier.score(test_x, test_y)"
   ]
  },
  {
   "cell_type": "code",
   "execution_count": 21,
   "metadata": {
    "collapsed": false
   },
   "outputs": [],
   "source": [
    "classifier = SVC(kernel='linear')\n",
    "classifier.fit(train_x, train_y)\n",
    "result['doc2vec_kSVC'] = classifier.score(test_x, test_y)"
   ]
  },
  {
   "cell_type": "markdown",
   "metadata": {},
   "source": [
    "## II. Vectorizer\n",
    " - CountVectorizer: count the word\n",
    " - TfidfVectorizer: count the word + weight\n",
    " - In this case, common words should be not effect to categorize.\n",
    " - Assume TfidfVectorizer is fit"
   ]
  },
  {
   "cell_type": "code",
   "execution_count": 22,
   "metadata": {
    "collapsed": true
   },
   "outputs": [],
   "source": [
    "stopwords = msw.get_stop_words('kr')"
   ]
  },
  {
   "cell_type": "code",
   "execution_count": 23,
   "metadata": {
    "collapsed": false
   },
   "outputs": [],
   "source": [
    "model = Pipeline([('vect', CountVectorizer(tokenizer=tokenize_pos, stop_words=stopwords))])\n",
    "features = model.fit_transform(X_train)\n",
    "a = cross_val_score(SVC(kernel='linear'), features, y_train)\n",
    "result['Count_kSVC'] = np.mean(a)\n",
    "\n",
    "model = Pipeline([('vect', TfidfVectorizer(tokenizer=tokenize_pos, stop_words=stopwords))])\n",
    "features = model.fit_transform(X_train)\n",
    "b = cross_val_score(SVC(kernel='linear'), features, y_train)\n",
    "result['Tfidf_kSVC'] = np.mean(b)"
   ]
  },
  {
   "cell_type": "code",
   "execution_count": 24,
   "metadata": {
    "collapsed": false
   },
   "outputs": [],
   "source": [
    "model = Pipeline([('vect', CountVectorizer(tokenizer=tokenize_pos, stop_words=stopwords))])\n",
    "features = model.fit_transform(X_train)\n",
    "a = cross_val_score(MultinomialNB(), features, y_train)\n",
    "result['Count_MNB'] = np.mean(a)\n",
    "# 0.42763895,  0.43579541,  0.43107711\n",
    "model = Pipeline([('vect', TfidfVectorizer(tokenizer=tokenize_pos, stop_words=stopwords))])\n",
    "features = model.fit_transform(X_train)\n",
    "b = cross_val_score(MultinomialNB(), features, y_train)\n",
    "result['Tfidf_MNB'] = np.mean(b)\n",
    "# 0.37557452,  0.37587885,  0.37494205])"
   ]
  },
  {
   "cell_type": "code",
   "execution_count": 25,
   "metadata": {
    "collapsed": false
   },
   "outputs": [],
   "source": [
    "model = Pipeline([('vect', CountVectorizer(tokenizer=tokenize_pos, stop_words=stopwords))])\n",
    "features = model.fit_transform(X_train)\n",
    "a = cross_val_score(LogisticRegression(), features, y_train)\n",
    "result['Count_LR'] = np.mean(a)\n",
    "# 0.45058128,  0.45372016,  0.45170762])\n",
    "model = Pipeline([('vect', TfidfVectorizer(tokenizer=tokenize_pos, stop_words=stopwords))])\n",
    "features = model.fit_transform(X_train)\n",
    "b = cross_val_score(LogisticRegression(), features, y_train)\n",
    "result['Tfidf_LR'] = np.mean(b)"
   ]
  },
  {
   "cell_type": "code",
   "execution_count": 26,
   "metadata": {
    "collapsed": false
   },
   "outputs": [],
   "source": [
    "model = Pipeline([('vect', CountVectorizer(tokenizer=tokenize_pos, stop_words=stopwords))])\n",
    "features = model.fit_transform(X_train)\n",
    "a = cross_val_score(OneVsOneClassifier(LogisticRegression()), features, y_train)\n",
    "result['Count_OvO'] = np.mean(a)\n",
    "# 0.44216137,  0.44135826,  0.44011745])\n",
    "model = Pipeline([('vect', TfidfVectorizer(tokenizer=tokenize_pos, stop_words=stopwords))])\n",
    "features = model.fit_transform(X_train)\n",
    "cross_val_score(OneVsOneClassifier(LogisticRegression()), features, y_train)\n",
    "result['Tfidf_OvO'] = np.mean(b)"
   ]
  },
  {
   "cell_type": "code",
   "execution_count": 27,
   "metadata": {
    "collapsed": false
   },
   "outputs": [],
   "source": [
    "model = Pipeline([('vect', CountVectorizer(tokenizer=tokenize_pos, stop_words=stopwords))])\n",
    "features = model.fit_transform(X_train)\n",
    "a = cross_val_score(DecisionTreeClassifier(max_depth=16), features, y_train)\n",
    "result['Count_DT'] = np.mean(a)\n",
    "# 0.37959136,  0.38124855,  0.37923041])\n",
    "model = Pipeline([('vect', TfidfVectorizer(tokenizer=tokenize_pos, stop_words=stopwords))])\n",
    "features = model.fit_transform(X_train)\n",
    "b = cross_val_score(DecisionTreeClassifier(max_depth=16), features, y_train)\n",
    "result['Tfidf_DT'] = np.mean(b)"
   ]
  },
  {
   "cell_type": "code",
   "execution_count": 28,
   "metadata": {
    "collapsed": false
   },
   "outputs": [
    {
     "name": "stdout",
     "output_type": "stream",
     "text": [
      "{'Count_MNB': 0.48233507759184507, 'Count_DT': 0.4774672056434428, 'doc2vec_LR': 0.4234, 'Count_OvO': 0.52913328299726092, 'Tfidf_kSVC': 0.54213489432758122, 'Count_LR': 0.55106495620020368, 'Tfidf_MNB': 0.4223340588383781, 'Tfidf_DT': 0.47546632324217214, 'Tfidf_OvO': 0.50339592220212792, 'Count_kSVC': 0.49413404805436256, 'doc2vec_kSVC': 0.40760000000000002, 'Tfidf_LR': 0.50339592220212792}\n"
     ]
    }
   ],
   "source": [
    "print result"
   ]
  },
  {
   "cell_type": "markdown",
   "metadata": {},
   "source": [
    "- Tfidf_kSVC is the best"
   ]
  },
  {
   "cell_type": "code",
   "execution_count": 29,
   "metadata": {
    "collapsed": false
   },
   "outputs": [
    {
     "name": "stdout",
     "output_type": "stream",
     "text": [
      "             precision    recall  f1-score   support\n",
      "\n",
      "          1       0.50      0.96      0.66      2044\n",
      "          2       0.88      0.38      0.53       258\n",
      "          3       0.87      0.25      0.39       222\n",
      "          4       0.82      0.44      0.57       277\n",
      "          5       0.76      0.17      0.28       373\n",
      "          6       0.79      0.32      0.45       339\n",
      "          7       1.00      0.10      0.19        39\n",
      "         11       0.67      0.31      0.42       544\n",
      "         12       1.00      0.06      0.11        50\n",
      "         13       0.00      0.00      0.00        29\n",
      "         14       0.79      0.38      0.51        82\n",
      "         15       0.98      0.31      0.48       360\n",
      "         16       0.78      0.31      0.44       383\n",
      "\n",
      "avg / total       0.68      0.57      0.52      5000\n",
      "\n"
     ]
    },
    {
     "name": "stderr",
     "output_type": "stream",
     "text": [
      "c:\\python27\\lib\\site-packages\\sklearn\\metrics\\classification.py:1113: UndefinedMetricWarning: Precision and F-score are ill-defined and being set to 0.0 in labels with no predicted samples.\n",
      "  'precision', 'predicted', average, warn_for)\n"
     ]
    }
   ],
   "source": [
    "model = Pipeline([('vect', TfidfVectorizer(tokenizer=tokenize_pos, stop_words=stopwords)),\n",
    "                  ('svc', SVC(kernel='linear', probability=True))])\n",
    "model.fit(X_train, y_train)\n",
    "print classification_report(y_test, model.predict(X_test))"
   ]
  },
  {
   "cell_type": "code",
   "execution_count": 30,
   "metadata": {
    "collapsed": false
   },
   "outputs": [
    {
     "name": "stdout",
     "output_type": "stream",
     "text": [
      "             precision    recall  f1-score   support\n",
      "\n",
      "          1       0.48      0.97      0.64      2044\n",
      "          2       0.87      0.32      0.47       258\n",
      "          3       0.91      0.18      0.29       222\n",
      "          4       0.85      0.32      0.47       277\n",
      "          5       0.64      0.10      0.17       373\n",
      "          6       0.78      0.27      0.40       339\n",
      "          7       0.00      0.00      0.00        39\n",
      "         11       0.65      0.25      0.36       544\n",
      "         12       0.00      0.00      0.00        50\n",
      "         13       0.00      0.00      0.00        29\n",
      "         14       0.83      0.12      0.21        82\n",
      "         15       0.91      0.27      0.42       360\n",
      "         16       0.81      0.23      0.36       383\n",
      "\n",
      "avg / total       0.64      0.53      0.46      5000\n",
      "\n"
     ]
    }
   ],
   "source": [
    "model = Pipeline([('vect', TfidfVectorizer(tokenizer=tokenize_pos, stop_words=stopwords)),\n",
    "                  ('svc', LogisticRegression())])\n",
    "model.fit(X_train, y_train)\n",
    "print classification_report(y_test, model.predict(X_test))"
   ]
  },
  {
   "cell_type": "markdown",
   "metadata": {},
   "source": [
    "# Conclusion\n",
    "- Comments in each genres have a little characteristics\n",
    "- As data size, cross validation score is changed.\n",
    "- CountVectorize_Logistic Regression looked the best but, in classification score, Tfidf_kSVC looked better \n",
    "- If I used whole data, could result be changed?"
   ]
  }
 ],
 "metadata": {
  "kernelspec": {
   "display_name": "Python 2",
   "language": "python",
   "name": "python2"
  },
  "language_info": {
   "codemirror_mode": {
    "name": "ipython",
    "version": 2
   },
   "file_extension": ".py",
   "mimetype": "text/x-python",
   "name": "python",
   "nbconvert_exporter": "python",
   "pygments_lexer": "ipython2",
   "version": "2.7.12"
  }
 },
 "nbformat": 4,
 "nbformat_minor": 1
}
